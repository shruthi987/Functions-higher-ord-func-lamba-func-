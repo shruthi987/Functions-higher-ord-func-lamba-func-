{
  "nbformat": 4,
  "nbformat_minor": 0,
  "metadata": {
    "colab": {
      "provenance": []
    },
    "kernelspec": {
      "name": "python3",
      "display_name": "Python 3"
    },
    "language_info": {
      "name": "python"
    }
  },
  "cells": [
    {
      "cell_type": "code",
      "execution_count": null,
      "metadata": {
        "colab": {
          "base_uri": "https://localhost:8080/",
          "height": 70
        },
        "id": "wS2gHde2SoNT",
        "outputId": "9e78590b-7624-4983-ee18-1df2886264c1"
      },
      "outputs": [
        {
          "output_type": "execute_result",
          "data": {
            "text/plain": [
              "\"print(value, ..., sep=' ', end='\\\\n', file=sys.stdout, flush=False)\\n\\nPrints the values to a stream, or to sys.stdout by default.\\nOptional keyword arguments:\\nfile:  a file-like object (stream); defaults to the current sys.stdout.\\nsep:   string inserted between values, default a space.\\nend:   string appended after the last value, default a newline.\\nflush: whether to forcibly flush the stream.\""
            ],
            "application/vnd.google.colaboratory.intrinsic+json": {
              "type": "string"
            }
          },
          "metadata": {},
          "execution_count": 1
        }
      ],
      "source": [
        "#Functions\n",
        "print.__doc__"
      ]
    },
    {
      "cell_type": "code",
      "source": [
        "len.__doc__"
      ],
      "metadata": {
        "colab": {
          "base_uri": "https://localhost:8080/",
          "height": 36
        },
        "id": "MOnb7ixfS1P_",
        "outputId": "3ab4a326-fdaa-4ff7-eba7-45913abd947b"
      },
      "execution_count": null,
      "outputs": [
        {
          "output_type": "execute_result",
          "data": {
            "text/plain": [
              "'Return the number of items in a container.'"
            ],
            "application/vnd.google.colaboratory.intrinsic+json": {
              "type": "string"
            }
          },
          "metadata": {},
          "execution_count": 2
        }
      ]
    },
    {
      "cell_type": "code",
      "source": [
        "def square(n):\n",
        "    '''Takes in a number n, returns the square of n'''\n",
        "    return n**2"
      ],
      "metadata": {
        "id": "rdBIPAFWS1TZ"
      },
      "execution_count": null,
      "outputs": []
    },
    {
      "cell_type": "code",
      "source": [
        "square.__doc__"
      ],
      "metadata": {
        "colab": {
          "base_uri": "https://localhost:8080/",
          "height": 36
        },
        "id": "G8a3DP4pS1Wm",
        "outputId": "359ec456-6cd2-4197-85b1-ddebd17cf8b9"
      },
      "execution_count": null,
      "outputs": [
        {
          "output_type": "execute_result",
          "data": {
            "text/plain": [
              "'Takes in a number n, returns the square of n'"
            ],
            "application/vnd.google.colaboratory.intrinsic+json": {
              "type": "string"
            }
          },
          "metadata": {},
          "execution_count": 4
        }
      ]
    },
    {
      "cell_type": "code",
      "source": [
        "y = 7\n",
        "def funct1():\n",
        "  global y\n",
        "  y = y + 1\n",
        "  print(y)\n",
        "print(y)"
      ],
      "metadata": {
        "colab": {
          "base_uri": "https://localhost:8080/"
        },
        "id": "4fmyB9hES1Z5",
        "outputId": "4bc3cb3c-f2bd-4596-fd6e-e6a4f93d7ed7"
      },
      "execution_count": null,
      "outputs": [
        {
          "output_type": "stream",
          "name": "stdout",
          "text": [
            "7\n"
          ]
        }
      ]
    },
    {
      "cell_type": "code",
      "source": [
        "funct1()"
      ],
      "metadata": {
        "colab": {
          "base_uri": "https://localhost:8080/"
        },
        "id": "HcdwsytfS1de",
        "outputId": "2dff64c2-c421-4789-a212-a7d6d0e3a27b"
      },
      "execution_count": null,
      "outputs": [
        {
          "output_type": "stream",
          "name": "stdout",
          "text": [
            "8\n"
          ]
        }
      ]
    },
    {
      "cell_type": "code",
      "source": [
        "y"
      ],
      "metadata": {
        "colab": {
          "base_uri": "https://localhost:8080/"
        },
        "id": "J2HFyBtNS1hP",
        "outputId": "df13a10a-2c9b-4745-feb1-937fa99c8270"
      },
      "execution_count": null,
      "outputs": [
        {
          "output_type": "execute_result",
          "data": {
            "text/plain": [
              "8"
            ]
          },
          "metadata": {},
          "execution_count": 7
        }
      ]
    },
    {
      "cell_type": "code",
      "source": [
        "def add_two(a,b) ->int:\n",
        "  return a + b"
      ],
      "metadata": {
        "id": "vP0FPSJkS1kq"
      },
      "execution_count": null,
      "outputs": []
    },
    {
      "cell_type": "code",
      "source": [
        "add_two(4,5)"
      ],
      "metadata": {
        "colab": {
          "base_uri": "https://localhost:8080/"
        },
        "id": "A2Ap_aFmS1oI",
        "outputId": "da9c09ce-afc8-464a-da0b-0002172ea405"
      },
      "execution_count": null,
      "outputs": [
        {
          "output_type": "execute_result",
          "data": {
            "text/plain": [
              "9"
            ]
          },
          "metadata": {},
          "execution_count": 9
        }
      ]
    },
    {
      "cell_type": "code",
      "source": [
        "a"
      ],
      "metadata": {
        "colab": {
          "base_uri": "https://localhost:8080/"
        },
        "id": "uP7F1_7ITaP7",
        "outputId": "1a201464-ebe4-4966-d30c-be796ee8c682"
      },
      "execution_count": null,
      "outputs": [
        {
          "output_type": "execute_result",
          "data": {
            "text/plain": [
              "20"
            ]
          },
          "metadata": {},
          "execution_count": 12
        }
      ]
    },
    {
      "cell_type": "code",
      "source": [
        "a :int = 20"
      ],
      "metadata": {
        "id": "-Z0VM6lyTaMu"
      },
      "execution_count": null,
      "outputs": []
    },
    {
      "cell_type": "code",
      "source": [
        "a =30.5"
      ],
      "metadata": {
        "id": "YzP3vQQITaTK"
      },
      "execution_count": null,
      "outputs": []
    },
    {
      "cell_type": "code",
      "source": [
        "a"
      ],
      "metadata": {
        "colab": {
          "base_uri": "https://localhost:8080/"
        },
        "id": "432rrCztTaWs",
        "outputId": "6574b8dc-9eb5-4954-c68a-3119aa2aeb6b"
      },
      "execution_count": null,
      "outputs": [
        {
          "output_type": "execute_result",
          "data": {
            "text/plain": [
              "30.5"
            ]
          },
          "metadata": {},
          "execution_count": 15
        }
      ]
    },
    {
      "cell_type": "code",
      "source": [
        "def myfunct(*names):\n",
        "  for i in names:\n",
        "    print(f'hello {i}')"
      ],
      "metadata": {
        "id": "XMIaxCNuTaZ5"
      },
      "execution_count": null,
      "outputs": []
    },
    {
      "cell_type": "code",
      "source": [
        "myfunct('peter','john',20,True)"
      ],
      "metadata": {
        "colab": {
          "base_uri": "https://localhost:8080/"
        },
        "id": "IXOtyHviTadh",
        "outputId": "f9276481-6cee-4d75-d980-e00ed96b975f"
      },
      "execution_count": null,
      "outputs": [
        {
          "output_type": "stream",
          "name": "stdout",
          "text": [
            "hello peter\n",
            "hello john\n",
            "hello 20\n",
            "hello True\n"
          ]
        }
      ]
    },
    {
      "cell_type": "code",
      "source": [
        "def myfunct2(**item):\n",
        "  for key,value in item.items():\n",
        "    print(f'{key} is {value}')"
      ],
      "metadata": {
        "id": "2eQG-juiTahK"
      },
      "execution_count": null,
      "outputs": []
    },
    {
      "cell_type": "code",
      "source": [
        "myfunct2(name='peter',age=20)"
      ],
      "metadata": {
        "colab": {
          "base_uri": "https://localhost:8080/"
        },
        "id": "_bpEGG2xTakQ",
        "outputId": "6d56cd64-5449-4135-c9d3-9d046bc54ec9"
      },
      "execution_count": null,
      "outputs": [
        {
          "output_type": "stream",
          "name": "stdout",
          "text": [
            "name is peter\n",
            "age is 20\n"
          ]
        }
      ]
    },
    {
      "cell_type": "code",
      "source": [
        "myfunct2(name='peter',age=20)"
      ],
      "metadata": {
        "colab": {
          "base_uri": "https://localhost:8080/"
        },
        "id": "IGn2VcGvUGF4",
        "outputId": "04e040d0-3e0b-4719-96b1-96c338083016"
      },
      "execution_count": null,
      "outputs": [
        {
          "output_type": "stream",
          "name": "stdout",
          "text": [
            "name is peter\n",
            "age is 20\n"
          ]
        }
      ]
    },
    {
      "cell_type": "code",
      "source": [
        "#map\n",
        "n = list(range(20))\n",
        "def even(x):\n",
        "  return x % 2 == 0\n",
        "list(map(even,n))"
      ],
      "metadata": {
        "colab": {
          "base_uri": "https://localhost:8080/"
        },
        "id": "w7s1y1nWUGI4",
        "outputId": "d6d6b94d-ce1f-4e8c-e42e-d5833c69ab2b"
      },
      "execution_count": null,
      "outputs": [
        {
          "output_type": "execute_result",
          "data": {
            "text/plain": [
              "[True,\n",
              " False,\n",
              " True,\n",
              " False,\n",
              " True,\n",
              " False,\n",
              " True,\n",
              " False,\n",
              " True,\n",
              " False,\n",
              " True,\n",
              " False,\n",
              " True,\n",
              " False,\n",
              " True,\n",
              " False,\n",
              " True,\n",
              " False,\n",
              " True,\n",
              " False]"
            ]
          },
          "metadata": {},
          "execution_count": 21
        }
      ]
    },
    {
      "cell_type": "code",
      "source": [
        "#reduce\n",
        "n = list(range(5))   #0,1,2,3,4\n",
        "from functools import reduce\n",
        "def add(x,y):\n",
        "  return x + y\n",
        "\n",
        "reduce(add,n)"
      ],
      "metadata": {
        "colab": {
          "base_uri": "https://localhost:8080/"
        },
        "id": "WAj-VixhUGLs",
        "outputId": "ee520246-b943-437d-c5ed-e14defc1eb07"
      },
      "execution_count": null,
      "outputs": [
        {
          "output_type": "execute_result",
          "data": {
            "text/plain": [
              "10"
            ]
          },
          "metadata": {},
          "execution_count": 22
        }
      ]
    },
    {
      "cell_type": "code",
      "source": [
        "#filter\n",
        "n = list(range(20))\n",
        "def is_even(x):\n",
        "  return x % 2 == 0\n",
        "print('filtered numbers' , list(filter(is_even,n)))"
      ],
      "metadata": {
        "colab": {
          "base_uri": "https://localhost:8080/"
        },
        "id": "Qs27vD93UGOj",
        "outputId": "ab7d4d6a-5ea4-4daa-9bff-18a7aeb5f638"
      },
      "execution_count": null,
      "outputs": [
        {
          "output_type": "stream",
          "name": "stdout",
          "text": [
            "filtered numbers [0, 2, 4, 6, 8, 10, 12, 14, 16, 18]\n"
          ]
        }
      ]
    },
    {
      "cell_type": "code",
      "source": [
        "from math import pi,sqrt\n",
        "def r_square(r):\n",
        "  return r * r\n",
        "def area_circle(r,f,a):\n",
        "  print('area of square ',f(r) * a[0])\n",
        "  print('area of circle ',f(r) * a[1])\n",
        "  print('area of hexagone ',f(r) * a[2])"
      ],
      "metadata": {
        "id": "cgICVtqhUGRb"
      },
      "execution_count": null,
      "outputs": []
    },
    {
      "cell_type": "code",
      "source": [
        "area_circle(4,r_square,[1,pi,(3*sqrt(3)/2)])"
      ],
      "metadata": {
        "colab": {
          "base_uri": "https://localhost:8080/"
        },
        "id": "LlIX2Os-UGUm",
        "outputId": "a8854f94-5605-4af7-817e-638ff3e494b7"
      },
      "execution_count": null,
      "outputs": [
        {
          "output_type": "stream",
          "name": "stdout",
          "text": [
            "area of square  16\n",
            "area of circle  50.26548245743669\n",
            "area of hexagone  41.569219381653056\n"
          ]
        }
      ]
    },
    {
      "cell_type": "code",
      "source": [
        "#lamda functions\n",
        "a = lambda x : x*x"
      ],
      "metadata": {
        "id": "b0bnECa4UGXp"
      },
      "execution_count": null,
      "outputs": []
    },
    {
      "cell_type": "code",
      "source": [
        "a(5)"
      ],
      "metadata": {
        "colab": {
          "base_uri": "https://localhost:8080/"
        },
        "id": "zq1GpgZXUGan",
        "outputId": "2264806e-f3dc-4b3a-e9f2-fc350bd00e70"
      },
      "execution_count": null,
      "outputs": [
        {
          "output_type": "execute_result",
          "data": {
            "text/plain": [
              "25"
            ]
          },
          "metadata": {},
          "execution_count": 27
        }
      ]
    },
    {
      "cell_type": "code",
      "source": [
        "num1 = [1,2,4]\n",
        "num2 = [2,4,5,6]\n",
        "num3 = [1,2,3]"
      ],
      "metadata": {
        "id": "Qq2laG9LUGeH"
      },
      "execution_count": null,
      "outputs": []
    },
    {
      "cell_type": "code",
      "source": [
        "list(map(lambda x,y,z : x+y+z,num1,num2,num3))"
      ],
      "metadata": {
        "colab": {
          "base_uri": "https://localhost:8080/"
        },
        "id": "B7MD-MztTanx",
        "outputId": "5b4e4e05-172b-4d6e-faf5-9e288dbf9837"
      },
      "execution_count": null,
      "outputs": [
        {
          "output_type": "execute_result",
          "data": {
            "text/plain": [
              "[4, 8, 12]"
            ]
          },
          "metadata": {},
          "execution_count": 29
        }
      ]
    },
    {
      "cell_type": "code",
      "source": [
        "b = lambda :'hello'"
      ],
      "metadata": {
        "id": "BDSK0EtCVBRT"
      },
      "execution_count": null,
      "outputs": []
    },
    {
      "cell_type": "code",
      "source": [
        "a(4)"
      ],
      "metadata": {
        "colab": {
          "base_uri": "https://localhost:8080/"
        },
        "id": "rMLp7BsVVBU9",
        "outputId": "74622a20-b36d-40a7-bfbe-748af02bbe1e"
      },
      "execution_count": null,
      "outputs": [
        {
          "output_type": "execute_result",
          "data": {
            "text/plain": [
              "16"
            ]
          },
          "metadata": {},
          "execution_count": 31
        }
      ]
    },
    {
      "cell_type": "code",
      "source": [
        "n = lambda x : f\"{x} is even\" if x % 2 == 0 else f\"{x} is odd\"\n",
        "print(n(9))"
      ],
      "metadata": {
        "colab": {
          "base_uri": "https://localhost:8080/"
        },
        "id": "y-qZIugBVBYL",
        "outputId": "457b1289-c387-4e97-d49a-a1843f7a89a2"
      },
      "execution_count": null,
      "outputs": [
        {
          "output_type": "stream",
          "name": "stdout",
          "text": [
            "9 is odd\n"
          ]
        }
      ]
    },
    {
      "cell_type": "code",
      "source": [
        "class Person:\n",
        "  def add_numbers(self,a,b):\n",
        "    return a + b"
      ],
      "metadata": {
        "id": "gozMBjSgVBbf"
      },
      "execution_count": null,
      "outputs": []
    },
    {
      "cell_type": "code",
      "source": [
        "p = Person()"
      ],
      "metadata": {
        "id": "PUxtDxx1VBep"
      },
      "execution_count": null,
      "outputs": []
    },
    {
      "cell_type": "code",
      "source": [
        "p.add_numbers(4,5)"
      ],
      "metadata": {
        "colab": {
          "base_uri": "https://localhost:8080/"
        },
        "id": "KVORB43QVBiC",
        "outputId": "91615dca-806d-4b4d-b2aa-555b4413c7e9"
      },
      "execution_count": null,
      "outputs": [
        {
          "output_type": "execute_result",
          "data": {
            "text/plain": [
              "9"
            ]
          },
          "metadata": {},
          "execution_count": 36
        }
      ]
    }
  ]
}